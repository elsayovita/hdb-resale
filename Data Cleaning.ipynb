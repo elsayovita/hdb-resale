{
 "cells": [
  {
   "cell_type": "markdown",
   "id": "e17b0963",
   "metadata": {
    "id": "e17b0963"
   },
   "source": [
    "\n",
    "# Import Packages"
   ]
  },
  {
   "cell_type": "code",
   "execution_count": 2,
   "id": "b536a49d",
   "metadata": {
    "id": "b536a49d"
   },
   "outputs": [],
   "source": [
    "import pandas as pd \n",
    "import math\n",
    "import regex\n",
    "import re\n",
    "import numpy as np\n",
    "from numpy import random\n",
    "from sklearn.impute import SimpleImputer\n",
    "\n",
    "import os\n",
    "from datetime import date\n",
    "from datetime import datetime\n",
    "from datetime import timedelta\n",
    "\n",
    "# Visualization\n",
    "import matplotlib.pyplot as plt\n",
    "import seaborn as sns\n",
    "import plotly.express as px"
   ]
  },
  {
   "cell_type": "markdown",
   "id": "a9373446",
   "metadata": {
    "id": "a9373446"
   },
   "source": [
    "# Import all datasets"
   ]
  },
  {
   "cell_type": "code",
   "execution_count": 3,
   "id": "72ce04c2",
   "metadata": {
    "id": "72ce04c2"
   },
   "outputs": [],
   "source": [
    "# hdb resale price\n",
    "df_resaleprice = pd.read_csv('resale-flat-prices-based-on-registration-date-from-jan-2017-onwards.csv')\n",
    "\n",
    "# region mapping file\n",
    "df_region = pd.read_excel('region.xlsx')"
   ]
  },
  {
   "cell_type": "code",
   "execution_count": 7,
   "id": "537ac236",
   "metadata": {
    "id": "537ac236",
    "outputId": "ad197575-2876-4e40-fa33-d2a12fa8b299"
   },
   "outputs": [
    {
     "name": "stdout",
     "output_type": "stream",
     "text": [
      "(147534, 11)\n"
     ]
    },
    {
     "data": {
      "text/html": [
       "<div>\n",
       "<style scoped>\n",
       "    .dataframe tbody tr th:only-of-type {\n",
       "        vertical-align: middle;\n",
       "    }\n",
       "\n",
       "    .dataframe tbody tr th {\n",
       "        vertical-align: top;\n",
       "    }\n",
       "\n",
       "    .dataframe thead th {\n",
       "        text-align: right;\n",
       "    }\n",
       "</style>\n",
       "<table border=\"1\" class=\"dataframe\">\n",
       "  <thead>\n",
       "    <tr style=\"text-align: right;\">\n",
       "      <th></th>\n",
       "      <th>month</th>\n",
       "      <th>town</th>\n",
       "      <th>flat_type</th>\n",
       "      <th>block</th>\n",
       "      <th>street_name</th>\n",
       "      <th>storey_range</th>\n",
       "      <th>floor_area_sqm</th>\n",
       "      <th>flat_model</th>\n",
       "      <th>lease_commence_date</th>\n",
       "      <th>remaining_lease</th>\n",
       "      <th>resale_price</th>\n",
       "    </tr>\n",
       "  </thead>\n",
       "  <tbody>\n",
       "    <tr>\n",
       "      <th>0</th>\n",
       "      <td>2017-01</td>\n",
       "      <td>ANG MO KIO</td>\n",
       "      <td>2 ROOM</td>\n",
       "      <td>406</td>\n",
       "      <td>ANG MO KIO AVE 10</td>\n",
       "      <td>10 TO 12</td>\n",
       "      <td>44.0</td>\n",
       "      <td>Improved</td>\n",
       "      <td>1979</td>\n",
       "      <td>61 years 04 months</td>\n",
       "      <td>232000.0</td>\n",
       "    </tr>\n",
       "    <tr>\n",
       "      <th>1</th>\n",
       "      <td>2017-01</td>\n",
       "      <td>ANG MO KIO</td>\n",
       "      <td>3 ROOM</td>\n",
       "      <td>108</td>\n",
       "      <td>ANG MO KIO AVE 4</td>\n",
       "      <td>01 TO 03</td>\n",
       "      <td>67.0</td>\n",
       "      <td>New Generation</td>\n",
       "      <td>1978</td>\n",
       "      <td>60 years 07 months</td>\n",
       "      <td>250000.0</td>\n",
       "    </tr>\n",
       "  </tbody>\n",
       "</table>\n",
       "</div>"
      ],
      "text/plain": [
       "     month        town flat_type block        street_name storey_range  \\\n",
       "0  2017-01  ANG MO KIO    2 ROOM   406  ANG MO KIO AVE 10     10 TO 12   \n",
       "1  2017-01  ANG MO KIO    3 ROOM   108   ANG MO KIO AVE 4     01 TO 03   \n",
       "\n",
       "   floor_area_sqm      flat_model  lease_commence_date     remaining_lease  \\\n",
       "0            44.0        Improved                 1979  61 years 04 months   \n",
       "1            67.0  New Generation                 1978  60 years 07 months   \n",
       "\n",
       "   resale_price  \n",
       "0      232000.0  \n",
       "1      250000.0  "
      ]
     },
     "execution_count": 7,
     "metadata": {},
     "output_type": "execute_result"
    }
   ],
   "source": [
    "#number of rows, columns, and firstr 2 rows\n",
    "print(df_resaleprice.shape)\n",
    "df_resaleprice.head(2)"
   ]
  },
  {
   "cell_type": "code",
   "execution_count": 12,
   "id": "b2802416",
   "metadata": {
    "id": "b2802416",
    "outputId": "79421741-71f5-422c-a898-4116e8785e22"
   },
   "outputs": [
    {
     "name": "stdout",
     "output_type": "stream",
     "text": [
      "<class 'pandas.core.frame.DataFrame'>\n",
      "RangeIndex: 147534 entries, 0 to 147533\n",
      "Data columns (total 11 columns):\n",
      " #   Column               Non-Null Count   Dtype  \n",
      "---  ------               --------------   -----  \n",
      " 0   month                147534 non-null  object \n",
      " 1   town                 147534 non-null  object \n",
      " 2   flat_type            147534 non-null  object \n",
      " 3   block                147534 non-null  object \n",
      " 4   street_name          147534 non-null  object \n",
      " 5   storey_range         147534 non-null  object \n",
      " 6   floor_area_sqm       147534 non-null  float64\n",
      " 7   flat_model           147534 non-null  object \n",
      " 8   lease_commence_date  147534 non-null  int64  \n",
      " 9   remaining_lease      147534 non-null  object \n",
      " 10  resale_price         147534 non-null  float64\n",
      "dtypes: float64(2), int64(1), object(8)\n",
      "memory usage: 12.4+ MB\n"
     ]
    }
   ],
   "source": [
    "df_resaleprice.info()"
   ]
  },
  {
   "cell_type": "markdown",
   "id": "a5a57462",
   "metadata": {
    "id": "a5a57462"
   },
   "source": [
    "# Data Preparation"
   ]
  },
  {
   "cell_type": "markdown",
   "id": "45b50d6d",
   "metadata": {
    "id": "45b50d6d"
   },
   "source": [
    "## Derive YEAR (YYYY) & MONTH (MM) from month column (YYYY-MM)"
   ]
  },
  {
   "cell_type": "code",
   "execution_count": 19,
   "id": "09e101c6",
   "metadata": {
    "id": "09e101c6"
   },
   "outputs": [],
   "source": [
    "def derive_year_mth(df, col_name):\n",
    "    year = df[col_name].str[:4] # Extract the first four chars from column\n",
    "    month = df[col_name].str[-2:] # Extract the last two chars from column\n",
    "    # Convert the year & month values to int\n",
    "    year = pd.to_numeric(year, errors=\"coerce\")\n",
    "    month = pd.to_numeric(month, errors=\"coerce\")\n",
    "    df[\"YEAR\"] = year\n",
    "    df[\"MONTH\"] = month\n",
    "\n",
    "derive_year_mth(df_resaleprice, \"month\")"
   ]
  },
  {
   "cell_type": "code",
   "execution_count": 20,
   "id": "b297d57f",
   "metadata": {
    "id": "b297d57f"
   },
   "outputs": [],
   "source": [
    "#Rename original \"month\" (2017-01) column name to \"MY\" to avoid confusion\n",
    "\n",
    "df_resaleprice = df_resaleprice.rename(columns={\"month\": \"MY\"})"
   ]
  },
  {
   "cell_type": "markdown",
   "id": "612bda43",
   "metadata": {
    "id": "612bda43"
   },
   "source": [
    "## Extract remaining lease year (YY) and months(MM) from remaining lease column (YY years MM months)"
   ]
  },
  {
   "cell_type": "code",
   "execution_count": null,
   "id": "4751bdf1",
   "metadata": {},
   "outputs": [],
   "source": [
    "def derive_lease_year_month(df, col_name):\n",
    "    pattern1 = r'(\\d+)\\s*(?:years?|y)\\s*(\\d+)\\s*(?:months?|m)?'\n",
    "    pattern2 = r'(\\d+)\\s*(year|years|yrs|yr)?\\s*(\\d+)?\\s*(month|months|mons|mon)?'\n",
    "    month = df[col_name].str.extract(pattern1)\n",
    "    year = df[col_name].str.extract(pattern2)\n",
    "    df[\"REMAINING_LEASE_YEAR\"] = pd.to_numeric(year[0])\n",
    "    df[\"REMAINING_LEASE_MONTH\"] = pd.to_numeric(month[1])\n",
    "    return df\n",
    "\n",
    "derive_lease_year_month(df_resaleprice, \"remaining_lease\")"
   ]
  },
  {
   "cell_type": "code",
   "execution_count": 23,
   "id": "bc5a7903",
   "metadata": {
    "id": "bc5a7903"
   },
   "outputs": [],
   "source": [
    "df_resaleprice['REMAINING_LEASE_MONTH'] = df_resaleprice['REMAINING_LEASE_MONTH'].fillna(0)"
   ]
  },
  {
   "cell_type": "markdown",
   "id": "7edb62ed",
   "metadata": {
    "id": "7edb62ed"
   },
   "source": [
    "## Calculate total number of remaining leasing months"
   ]
  },
  {
   "cell_type": "code",
   "execution_count": 39,
   "id": "72545e5e",
   "metadata": {
    "id": "72545e5e"
   },
   "outputs": [],
   "source": [
    "df_resaleprice['REMAINING_LEASE_MONTHS'] = (df_resaleprice['REMAINING_LEASE_YEAR']*12) + df_resaleprice['REMAINING_LEASE_MONTH']"
   ]
  },
  {
   "cell_type": "markdown",
   "id": "a45e2d15",
   "metadata": {
    "id": "a45e2d15"
   },
   "source": [
    "## Update town column to uppercase\n",
    "- To handle case mismatch in df_region and df_resaleprice"
   ]
  },
  {
   "cell_type": "code",
   "execution_count": 25,
   "id": "7b7bff95",
   "metadata": {
    "id": "7b7bff95"
   },
   "outputs": [],
   "source": [
    "df_region = df_region.rename(columns={'Town Centres / Areas': 'town'})\n",
    "df_region['town'] = df_region['town'].str.upper()"
   ]
  },
  {
   "cell_type": "code",
   "execution_count": 27,
   "id": "365f6ee9",
   "metadata": {
    "id": "365f6ee9",
    "outputId": "eb229b16-1e75-4ccf-af50-9d424e16b7b7"
   },
   "outputs": [
    {
     "data": {
      "text/plain": [
       "array(['ADMIRALITY', 'HOLLAND', 'SERANGOON', 'LIM CHU KANG', 'THOMSON',\n",
       "       'KRANJI', 'QUEENSTOWN', 'PUNGGOL', 'CHOA CHU KANG', 'MARYMOUNT',\n",
       "       'WOODLANDS', 'BUKIT MERAH', 'HOUGANG', 'BUKIT PANJANG', 'SIN MING',\n",
       "       'SEMBAWANG', 'TELOK BLANGAH', 'TAMPINES', 'TUAS', 'ANG MO KIO',\n",
       "       'YISHUN', 'PASIR PANJANG', 'PASIR RIS', 'JURONG EAST', 'BISHAN',\n",
       "       'YIO CHU KANG', 'SENTOSA', 'LOYANG', 'JURONG WEST',\n",
       "       'SERANGOON GARDENS', 'SELETAR', 'BUKIT TIMAH', 'SIMEI',\n",
       "       'JURONG INDUSTRIAL ESTATE', 'MACRITCHIE', 'SENGKANG', 'NEWTON',\n",
       "       'KALLANG', 'BUKIT BATOK', 'TOA PAYOH', 'ORCHARD', 'KATONG',\n",
       "       'HILLVIEW', 'CITY', 'EAST COAST', 'WEST COAST', 'MARINA SOUTH',\n",
       "       'MACPHERSON', 'CLEMENTI', 'BEDOK', 'PULAU UBIN', 'PULAU TEKONG',\n",
       "       'CENTRAL AREA', 'GEYLANG', 'KALLANG/WHAMPOA', 'MARINE PARADE'],\n",
       "      dtype=object)"
      ]
     },
     "execution_count": 27,
     "metadata": {},
     "output_type": "execute_result"
    }
   ],
   "source": [
    "df_region['town'].unique()"
   ]
  },
  {
   "cell_type": "code",
   "execution_count": 29,
   "id": "d9806d7a",
   "metadata": {
    "id": "d9806d7a"
   },
   "outputs": [],
   "source": [
    "df_resaleprice['town'] = df_resaleprice['town'].str.upper()"
   ]
  },
  {
   "cell_type": "markdown",
   "id": "d9a23bdf",
   "metadata": {
    "id": "d9a23bdf"
   },
   "source": [
    "## Concatenate block and street name to get ADDRESS\n",
    "- Address is later used as key to merge df_resaleprice and df_houseinfo"
   ]
  },
  {
   "cell_type": "code",
   "execution_count": 34,
   "id": "b4d37369",
   "metadata": {
    "id": "b4d37369"
   },
   "outputs": [],
   "source": [
    "df_resaleprice[\"ADDRESS\"] = df_resaleprice[\"block\"].astype(str) + \" \" + df_resaleprice[\"street_name\"]"
   ]
  },
  {
   "cell_type": "markdown",
   "id": "b30c49a5",
   "metadata": {
    "id": "b30c49a5"
   },
   "source": [
    "## Replace outliers value with median"
   ]
  },
  {
   "cell_type": "code",
   "execution_count": null,
   "id": "c6962ee4",
   "metadata": {},
   "outputs": [],
   "source": [
    "upper_bound = df_resaleprice[\"resale_price\"].mean() + 3 * df_resaleprice[\"resale_price\"].std()\n",
    "\n",
    "df_resaleprice[\"resale_price\"] = np.where(df_resaleprice[\"resale_price\"] > upper_bound, \"\", df_resaleprice[\"resale_price\"])\n",
    "\n",
    "imp_median = SimpleImputer(strategy='median')\n",
    "df_resaleprice[\"resale_price\"] = imp_median.fit_transform(df_resaleprice[\"resale_price\"])"
   ]
  },
  {
   "cell_type": "markdown",
   "id": "df96323f",
   "metadata": {},
   "source": [
    "## Export to Excel"
   ]
  },
  {
   "cell_type": "code",
   "execution_count": null,
   "id": "941c8288",
   "metadata": {},
   "outputs": [],
   "source": [
    "df_region.to_excel(r'region.xlsx', index=False)\n",
    "df_resaleprice.to_excel(r'resale.xlsx', index=False)"
   ]
  }
 ],
 "metadata": {
  "colab": {
   "provenance": []
  },
  "kernelspec": {
   "display_name": "Python 3 (ipykernel)",
   "language": "python",
   "name": "python3"
  },
  "language_info": {
   "codemirror_mode": {
    "name": "ipython",
    "version": 3
   },
   "file_extension": ".py",
   "mimetype": "text/x-python",
   "name": "python",
   "nbconvert_exporter": "python",
   "pygments_lexer": "ipython3",
   "version": "3.9.7"
  }
 },
 "nbformat": 4,
 "nbformat_minor": 5
}
